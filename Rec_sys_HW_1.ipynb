{
  "nbformat": 4,
  "nbformat_minor": 0,
  "metadata": {
    "colab": {
      "provenance": [],
      "authorship_tag": "ABX9TyMsZI3uz9eKKxSfy2Z99vJ/"
    },
    "kernelspec": {
      "name": "python3",
      "display_name": "Python 3"
    },
    "language_info": {
      "name": "python"
    }
  },
  "cells": [
    {
      "cell_type": "markdown",
      "source": [],
      "metadata": {
        "id": "q6QghOm1xfrC"
      }
    },
    {
      "cell_type": "markdown",
      "source": [
        "## Задание 1. Реализовать метрики Recall@k и  Money Recall@k\n",
        "\n",
        "*Recall* - доля рекомендованных товаров среди релевантных = Какой % купленных товаров был среди рекомендованных\n",
        "\n",
        "$$\\Large Recall@K(i) = \\frac {\\sum_{j=1}^{K}\\mathbb{1}_{r_{ij}}}{|Rel_i|}$$\n",
        "\n",
        "$\\Large |Rel_i|$ -- количество релевантных товаров для пользователя $i$\n",
        "\n",
        "$$\\Large MoneyRecall@K(i) = \\frac {\\sum_{j=1}^{K}\\mathbb{1}_{r_{ij}}\\cdot Price(j)}{\\sum_{s\\in Rel_i}Price(s)}$$\n"
      ],
      "metadata": {
        "id": "ztg60C7Yxh2q"
      }
    },
    {
      "cell_type": "code",
      "source": [
        "import numpy as np\n",
        "import pandas as pd\n",
        "import math"
      ],
      "metadata": {
        "id": "XVio55Yoxd8O"
      },
      "execution_count": 13,
      "outputs": []
    },
    {
      "cell_type": "code",
      "source": [
        "def recall(recommended_list, bought_list):\n",
        "    \n",
        "    bought_list = np.array(bought_list)\n",
        "    recommended_list = np.array(recommended_list)\n",
        "    \n",
        "    flags = np.isin(bought_list, recommended_list)\n",
        "    \n",
        "    return flags.sum() / len(bought_list)\n",
        "\n",
        "def recall_at_k(recommended_list, bought_list, k=5):\n",
        "    \n",
        "    bought_list = np.array(bought_list)\n",
        "    recommended_list = np.array(recommended_list)\n",
        "\n",
        "    bought_list = bought_list  # Тут нет [:k] !!\n",
        "    recommended_list = recommended_list[:k]\n",
        "\n",
        "    flags = np.isin(recommended_list, bought_list)\n",
        "\n",
        "    recall = flags.sum() / len(bought_list)\n",
        "    \n",
        "    return recall\n",
        "\n",
        "\n",
        "def money_recall_at_k(recommended_list, bought_list, prices_recommended, prices_bought, k=5):\n",
        "    bought_list = np.array(bought_list)\n",
        "    recommended_list = np.array(recommended_list)\n",
        "    prices_recommended = np.array(prices_recommended)\n",
        "    prices_bought = np.array(prices_bought)\n",
        "    \n",
        "    flags = np.isin(recommended_list, bought_list)\n",
        "\n",
        "    recall = np.dot(flags, prices_recommended).sum() / prices_bought.sum()\n",
        "    \n",
        "    return recall"
      ],
      "metadata": {
        "id": "BOvEVJWZxnUM"
      },
      "execution_count": 2,
      "outputs": []
    },
    {
      "cell_type": "code",
      "source": [
        "recommended_list = [143, 156, 1134, 991, 27, 1543, 3345, 533, 11, 43] #id товаров\n",
        "prices_recommended=[400, 40, 30, 120, 99, 144, 25, 90, 90, 320]\n",
        "# user1\n",
        "bought_list = [521, 32, 143, 991]\n",
        "prices_bought=[60, 40, 400, 120]"
      ],
      "metadata": {
        "id": "WyKkwCjhzv4P"
      },
      "execution_count": 3,
      "outputs": []
    },
    {
      "cell_type": "code",
      "source": [
        "recall_at_k(recommended_list, bought_list)"
      ],
      "metadata": {
        "colab": {
          "base_uri": "https://localhost:8080/"
        },
        "id": "5pD5j7_jzweY",
        "outputId": "ec291a68-dcb9-4b92-dffc-1e228e6381d0"
      },
      "execution_count": 4,
      "outputs": [
        {
          "output_type": "execute_result",
          "data": {
            "text/plain": [
              "0.5"
            ]
          },
          "metadata": {},
          "execution_count": 4
        }
      ]
    },
    {
      "cell_type": "code",
      "source": [
        "money_recall_at_k(recommended_list, bought_list, prices_recommended, prices_bought, k=5)"
      ],
      "metadata": {
        "colab": {
          "base_uri": "https://localhost:8080/"
        },
        "id": "LfG390tVzz5g",
        "outputId": "6aef4c3e-4add-44c1-8575-c6bce73a0e28"
      },
      "execution_count": 5,
      "outputs": [
        {
          "output_type": "execute_result",
          "data": {
            "text/plain": [
              "0.8387096774193549"
            ]
          },
          "metadata": {},
          "execution_count": 5
        }
      ]
    },
    {
      "cell_type": "markdown",
      "source": [
        "## Задание 2. Реализовать метрику MRR@k\n",
        "\n",
        "Mean Reciprocal Rank\n",
        "\n",
        "- Считаем для первых k рекоммендаций\n",
        "- Найти ранк первого релевантного предсказания $\\Large rank_j$\n",
        "- Посчитать reciprocal rank = $\\Large\\frac{1}{rank_j}$\n",
        "\n",
        "$$\\Large  MMR(i)@k=\\frac {1}{\\min\\limits_{j\\in Rel(i)} rank_j}$$"
      ],
      "metadata": {
        "id": "f5JSH0d6z7Tp"
      }
    },
    {
      "cell_type": "code",
      "source": [
        "def mrr_at_k(recommended_list, bought_list, k=5):\n",
        "    bought_list = np.array(bought_list)\n",
        "    recommended_list = np.array(recommended_list)[:k]\n",
        "    relevant_indexes = np.nonzero(np.isin(recommended_list, bought_list))[0]\n",
        "    if len(relevant_indexes) == 0:\n",
        "        return 0\n",
        "    reciprocal_rank = 1 / (relevant_indexes[0] + 1)\n",
        "    return reciprocal_rank\n",
        "\n",
        "def reciprocal_rank(recommended_list, bought_list, k=1):\n",
        "    recommended_list = np.array(recommended_list)\n",
        "    bought_list = np.array(bought_list)\n",
        "    \n",
        "    amount_user = len(bought_list)\n",
        "    rr = []\n",
        "    for i in np.arange(amount_user):    \n",
        "        relevant_indexes = np.nonzero(np.isin(recommended_list[i][:k], bought_list[i]))[0]\n",
        "        if len(relevant_indexes) != 0:\n",
        "            rr.append(1/(relevant_indexes[0]+1))\n",
        "    \n",
        "    if len(rr) == 0:\n",
        "        return 0\n",
        "    \n",
        "    return sum(rr)/amount_user"
      ],
      "metadata": {
        "id": "wKzGiE9Fz8TL"
      },
      "execution_count": 6,
      "outputs": []
    },
    {
      "cell_type": "code",
      "source": [
        "recommended_list_3_users = [[143, 156, 1134, 991, 27, 1543, 3345, 533, 11, 43], \n",
        "                            [1134, 533, 14, 4, 15, 1543, 1, 99, 27, 3345],\n",
        "                            [991, 3345, 27, 533, 43, 143, 1543, 156, 1134, 11]\n",
        "                    ]\n",
        "\n",
        "bought_list_3_users = [[521, 32, 143],  # юзер 1\n",
        "                       [143, 156, 991, 43, 11], # юзер 2\n",
        "                       [1,2]\n",
        "                      ] # юзер 3"
      ],
      "metadata": {
        "id": "hxwOfdsl0OnL"
      },
      "execution_count": 7,
      "outputs": []
    },
    {
      "cell_type": "code",
      "source": [
        "mrr_at_k(recommended_list, bought_list, k=5)"
      ],
      "metadata": {
        "colab": {
          "base_uri": "https://localhost:8080/"
        },
        "id": "-4g8O_3-0bmM",
        "outputId": "7010ffe9-5628-47af-e4ae-01fc73b13c58"
      },
      "execution_count": 8,
      "outputs": [
        {
          "output_type": "execute_result",
          "data": {
            "text/plain": [
              "1.0"
            ]
          },
          "metadata": {},
          "execution_count": 8
        }
      ]
    },
    {
      "cell_type": "code",
      "source": [
        "reciprocal_rank(recommended_list_3_users, bought_list_3_users, k=5)"
      ],
      "metadata": {
        "colab": {
          "base_uri": "https://localhost:8080/"
        },
        "id": "nhLfelNq0dGn",
        "outputId": "3436a510-9081-4ac7-a442-9fce8fc5ce9e"
      },
      "execution_count": 9,
      "outputs": [
        {
          "output_type": "stream",
          "name": "stderr",
          "text": [
            "/usr/local/lib/python3.7/dist-packages/ipykernel_launcher.py:12: VisibleDeprecationWarning: Creating an ndarray from ragged nested sequences (which is a list-or-tuple of lists-or-tuples-or ndarrays with different lengths or shapes) is deprecated. If you meant to do this, you must specify 'dtype=object' when creating the ndarray.\n",
            "  if sys.path[0] == '':\n"
          ]
        },
        {
          "output_type": "execute_result",
          "data": {
            "text/plain": [
              "0.3333333333333333"
            ]
          },
          "metadata": {},
          "execution_count": 9
        }
      ]
    },
    {
      "cell_type": "markdown",
      "source": [
        "## Задание 3*. Реализовать метрику nDCG@k\n",
        "Normalized discounted cumulative gain. Эту метрику реализовать будет немного сложнее.\n",
        "\n",
        "$$\\Large DCG@K(i) = \\sum_{j=1}^{K}\\frac{\\mathbb{1}_{r_{ij}}}{\\log_2 (j+1)}$$\n",
        "\n",
        "\n",
        "$\\Large \\mathbb{1}_{r_{ij}}$ -- индикаторная функция показывает что пользователь $i$ провзаимодействовал с продуктом $j$\n",
        "\n",
        "Для подсчета $nDCG$ нам необходимо найти максимально возможный $DCG$ для пользователя $i$  и рекомендаций длины $K$.\n",
        "Максимальный $DCG$ достигается когда мы порекомендовали максимально возможное количество релевантных продуктов и все они в начале списка рекомендаций.\n",
        "\n",
        "$$\\Large IDCG@K(i) = max(DCG@K(i)) = \\sum_{j=1}^{K}\\frac{\\mathbb{1}_{j\\le|Rel_i|}}{\\log_2 (j+1)}$$\n",
        "\n",
        "$$\\Large nDCG@K(i) = \\frac {DCG@K(i)}{IDCG@K(i)}$$\n",
        "\n",
        "$\\Large |Rel_i|$ -- количество релевантных продуктов для пользователя $i$"
      ],
      "metadata": {
        "id": "aPDP0yuC0kGm"
      }
    },
    {
      "cell_type": "code",
      "source": [
        "def ndcg_at_k(recommended_list, bought_list, k=5):\n",
        "    rec = recommended_list\n",
        "    b = bought_list\n",
        "    \n",
        "    recommended_list = np.array(recommended_list)[:k]\n",
        "    bought_list = np.array(bought_list)\n",
        "    \n",
        "    flags = np.isin(recommended_list, bought_list)\n",
        "    rank_list = []\n",
        "    for i in np.arange(len(recommended_list)):\n",
        "        if i < 2:\n",
        "            rank_list.append(i+1)\n",
        "        else:\n",
        "            rank_list.append(math.log2(i+1))\n",
        "    if len(recommended_list) == 0:\n",
        "        return 0\n",
        "    dcg = sum(np.divide(flags, rank_list)) / len(recommended_list)\n",
        "\n",
        "    i_dcg = sum(np.divide(1, rank_list)) / len(recommended_list)\n",
        "    return dcg/i_dcg    "
      ],
      "metadata": {
        "id": "qO2X7-mt0kdJ"
      },
      "execution_count": 10,
      "outputs": []
    },
    {
      "cell_type": "code",
      "source": [
        "recommended_list = [143,156,1134,991,27,1543,3345,533,11,43] #iditems\n",
        "prices_recommended_list = [400,60,40,90,60,340,70,190,110,240]\n",
        "\n",
        "bought_list = [521,32,143,991]\n",
        "prices_bought = [150,30,400,90]"
      ],
      "metadata": {
        "id": "97WDoutD0nQF"
      },
      "execution_count": 11,
      "outputs": []
    },
    {
      "cell_type": "code",
      "source": [
        "ndcg_at_k(recommended_list, bought_list, 5)"
      ],
      "metadata": {
        "colab": {
          "base_uri": "https://localhost:8080/"
        },
        "id": "231PUhPO0oiM",
        "outputId": "d7ce68b0-2009-45e8-b5ee-f0c2f0c5adc0"
      },
      "execution_count": 14,
      "outputs": [
        {
          "output_type": "execute_result",
          "data": {
            "text/plain": [
              "0.489938890671454"
            ]
          },
          "metadata": {},
          "execution_count": 14
        }
      ]
    },
    {
      "cell_type": "code",
      "source": [],
      "metadata": {
        "id": "JBCv9lJd0pwX"
      },
      "execution_count": null,
      "outputs": []
    }
  ]
}